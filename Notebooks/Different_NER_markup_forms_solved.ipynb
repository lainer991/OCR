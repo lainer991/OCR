{
  "nbformat": 4,
  "nbformat_minor": 0,
  "metadata": {
    "colab": {
      "provenance": [],
      "toc_visible": true
    },
    "kernelspec": {
      "name": "python3",
      "display_name": "Python 3"
    },
    "language_info": {
      "name": "python"
    },
    "accelerator": "GPU"
  },
  "cells": [
    {
      "cell_type": "markdown",
      "source": [
        "#### Примапим диск"
      ],
      "metadata": {
        "id": "R0xSh80fjgH3"
      }
    },
    {
      "cell_type": "code",
      "source": [
        "from google.colab import drive\n",
        "drive.mount('/content/drive')"
      ],
      "metadata": {
        "colab": {
          "base_uri": "https://localhost:8080/"
        },
        "id": "reMAk7EWjeo1",
        "outputId": "dd8edbda-ea53-409a-fc17-69eb8c86e147"
      },
      "execution_count": null,
      "outputs": [
        {
          "output_type": "stream",
          "name": "stdout",
          "text": [
            "Drive already mounted at /content/drive; to attempt to forcibly remount, call drive.mount(\"/content/drive\", force_remount=True).\n"
          ]
        }
      ]
    },
    {
      "cell_type": "markdown",
      "source": [
        "#### Устанавливаем зависимости"
      ],
      "metadata": {
        "id": "uJqpPpc6j24J"
      }
    },
    {
      "cell_type": "code",
      "source": [
        "repo_folder = '/content/drive/MyDrive/github/'"
      ],
      "metadata": {
        "id": "Bk5OcuUbjxWw"
      },
      "execution_count": null,
      "outputs": []
    },
    {
      "cell_type": "code",
      "source": [
        "reqs_path = repo_folder + 'IntelligentDocumentProcessing/requirements.txt '\n",
        "!pip3 install -r {reqs_path}"
      ],
      "metadata": {
        "id": "KlKqtuTSj5y4",
        "colab": {
          "base_uri": "https://localhost:8080/"
        },
        "outputId": "77266d54-25c9-441a-dec4-0b2aa3856e7c"
      },
      "execution_count": null,
      "outputs": [
        {
          "output_type": "stream",
          "name": "stdout",
          "text": [
            "Looking in indexes: https://pypi.org/simple, https://us-python.pkg.dev/colab-wheels/public/simple/\n",
            "Requirement already satisfied: wandb==0.13.3 in /usr/local/lib/python3.7/dist-packages (from -r /content/drive/MyDrive/github/IntelligentDocumentProcessing/requirements.txt (line 1)) (0.13.3)\n",
            "Requirement already satisfied: albumentations==1.2.1 in /usr/local/lib/python3.7/dist-packages (from -r /content/drive/MyDrive/github/IntelligentDocumentProcessing/requirements.txt (line 2)) (1.2.1)\n",
            "Requirement already satisfied: pyclipper==1.3.0.post3 in /usr/local/lib/python3.7/dist-packages (from -r /content/drive/MyDrive/github/IntelligentDocumentProcessing/requirements.txt (line 3)) (1.3.0.post3)\n",
            "Requirement already satisfied: pytorch-lightning==1.7.6 in /usr/local/lib/python3.7/dist-packages (from -r /content/drive/MyDrive/github/IntelligentDocumentProcessing/requirements.txt (line 4)) (1.7.6)\n",
            "Requirement already satisfied: segmentation-models-pytorch in /usr/local/lib/python3.7/dist-packages (from -r /content/drive/MyDrive/github/IntelligentDocumentProcessing/requirements.txt (line 5)) (0.3.0)\n",
            "Requirement already satisfied: trdg==1.6.0 in /usr/local/lib/python3.7/dist-packages (from -r /content/drive/MyDrive/github/IntelligentDocumentProcessing/requirements.txt (line 6)) (1.6.0)\n",
            "Requirement already satisfied: python-levenshtein==0.12.2 in /usr/local/lib/python3.7/dist-packages (from -r /content/drive/MyDrive/github/IntelligentDocumentProcessing/requirements.txt (line 7)) (0.12.2)\n",
            "Requirement already satisfied: transformers==4.23.1 in /usr/local/lib/python3.7/dist-packages (from -r /content/drive/MyDrive/github/IntelligentDocumentProcessing/requirements.txt (line 8)) (4.23.1)\n",
            "Requirement already satisfied: rusenttokenize==0.0.5 in /usr/local/lib/python3.7/dist-packages (from -r /content/drive/MyDrive/github/IntelligentDocumentProcessing/requirements.txt (line 9)) (0.0.5)\n",
            "Requirement already satisfied: ipymarkup==0.9.0 in /usr/local/lib/python3.7/dist-packages (from -r /content/drive/MyDrive/github/IntelligentDocumentProcessing/requirements.txt (line 10)) (0.9.0)\n",
            "Requirement already satisfied: flask==2.2.2 in /usr/local/lib/python3.7/dist-packages (from -r /content/drive/MyDrive/github/IntelligentDocumentProcessing/requirements.txt (line 11)) (2.2.2)\n",
            "Requirement already satisfied: levenshtein==0.20.7 in /usr/local/lib/python3.7/dist-packages (from -r /content/drive/MyDrive/github/IntelligentDocumentProcessing/requirements.txt (line 12)) (0.20.7)\n",
            "Requirement already satisfied: sentry-sdk>=1.0.0 in /usr/local/lib/python3.7/dist-packages (from wandb==0.13.3->-r /content/drive/MyDrive/github/IntelligentDocumentProcessing/requirements.txt (line 1)) (1.9.0)\n",
            "Requirement already satisfied: docker-pycreds>=0.4.0 in /usr/local/lib/python3.7/dist-packages (from wandb==0.13.3->-r /content/drive/MyDrive/github/IntelligentDocumentProcessing/requirements.txt (line 1)) (0.4.0)\n",
            "Requirement already satisfied: pathtools in /usr/local/lib/python3.7/dist-packages (from wandb==0.13.3->-r /content/drive/MyDrive/github/IntelligentDocumentProcessing/requirements.txt (line 1)) (0.1.2)\n",
            "Requirement already satisfied: setuptools in /usr/local/lib/python3.7/dist-packages (from wandb==0.13.3->-r /content/drive/MyDrive/github/IntelligentDocumentProcessing/requirements.txt (line 1)) (57.4.0)\n",
            "Requirement already satisfied: setproctitle in /usr/local/lib/python3.7/dist-packages (from wandb==0.13.3->-r /content/drive/MyDrive/github/IntelligentDocumentProcessing/requirements.txt (line 1)) (1.3.2)\n",
            "Requirement already satisfied: shortuuid>=0.5.0 in /usr/local/lib/python3.7/dist-packages (from wandb==0.13.3->-r /content/drive/MyDrive/github/IntelligentDocumentProcessing/requirements.txt (line 1)) (1.0.11)\n",
            "Requirement already satisfied: Click!=8.0.0,>=7.0 in /usr/local/lib/python3.7/dist-packages (from wandb==0.13.3->-r /content/drive/MyDrive/github/IntelligentDocumentProcessing/requirements.txt (line 1)) (8.1.3)\n",
            "Requirement already satisfied: psutil>=5.0.0 in /usr/local/lib/python3.7/dist-packages (from wandb==0.13.3->-r /content/drive/MyDrive/github/IntelligentDocumentProcessing/requirements.txt (line 1)) (5.4.8)\n",
            "Requirement already satisfied: requests<3,>=2.0.0 in /usr/local/lib/python3.7/dist-packages (from wandb==0.13.3->-r /content/drive/MyDrive/github/IntelligentDocumentProcessing/requirements.txt (line 1)) (2.23.0)\n",
            "Requirement already satisfied: protobuf<4.0dev,>=3.12.0 in /usr/local/lib/python3.7/dist-packages (from wandb==0.13.3->-r /content/drive/MyDrive/github/IntelligentDocumentProcessing/requirements.txt (line 1)) (3.19.6)\n",
            "Requirement already satisfied: promise<3,>=2.0 in /usr/local/lib/python3.7/dist-packages (from wandb==0.13.3->-r /content/drive/MyDrive/github/IntelligentDocumentProcessing/requirements.txt (line 1)) (2.3)\n",
            "Requirement already satisfied: PyYAML in /usr/local/lib/python3.7/dist-packages (from wandb==0.13.3->-r /content/drive/MyDrive/github/IntelligentDocumentProcessing/requirements.txt (line 1)) (6.0)\n",
            "Requirement already satisfied: GitPython>=1.0.0 in /usr/local/lib/python3.7/dist-packages (from wandb==0.13.3->-r /content/drive/MyDrive/github/IntelligentDocumentProcessing/requirements.txt (line 1)) (3.1.29)\n",
            "Requirement already satisfied: six>=1.13.0 in /usr/local/lib/python3.7/dist-packages (from wandb==0.13.3->-r /content/drive/MyDrive/github/IntelligentDocumentProcessing/requirements.txt (line 1)) (1.15.0)\n",
            "Requirement already satisfied: scikit-image>=0.16.1 in /usr/local/lib/python3.7/dist-packages (from albumentations==1.2.1->-r /content/drive/MyDrive/github/IntelligentDocumentProcessing/requirements.txt (line 2)) (0.18.3)\n",
            "Requirement already satisfied: qudida>=0.0.4 in /usr/local/lib/python3.7/dist-packages (from albumentations==1.2.1->-r /content/drive/MyDrive/github/IntelligentDocumentProcessing/requirements.txt (line 2)) (0.0.4)\n",
            "Requirement already satisfied: opencv-python-headless>=4.1.1 in /usr/local/lib/python3.7/dist-packages (from albumentations==1.2.1->-r /content/drive/MyDrive/github/IntelligentDocumentProcessing/requirements.txt (line 2)) (4.6.0.66)\n",
            "Requirement already satisfied: scipy in /usr/local/lib/python3.7/dist-packages (from albumentations==1.2.1->-r /content/drive/MyDrive/github/IntelligentDocumentProcessing/requirements.txt (line 2)) (1.7.3)\n",
            "Requirement already satisfied: numpy>=1.11.1 in /usr/local/lib/python3.7/dist-packages (from albumentations==1.2.1->-r /content/drive/MyDrive/github/IntelligentDocumentProcessing/requirements.txt (line 2)) (1.21.6)\n",
            "Requirement already satisfied: pyDeprecate>=0.3.1 in /usr/local/lib/python3.7/dist-packages (from pytorch-lightning==1.7.6->-r /content/drive/MyDrive/github/IntelligentDocumentProcessing/requirements.txt (line 4)) (0.3.2)\n",
            "Requirement already satisfied: fsspec[http]!=2021.06.0,>=2021.05.0 in /usr/local/lib/python3.7/dist-packages (from pytorch-lightning==1.7.6->-r /content/drive/MyDrive/github/IntelligentDocumentProcessing/requirements.txt (line 4)) (2022.11.0)\n",
            "Requirement already satisfied: tqdm>=4.57.0 in /usr/local/lib/python3.7/dist-packages (from pytorch-lightning==1.7.6->-r /content/drive/MyDrive/github/IntelligentDocumentProcessing/requirements.txt (line 4)) (4.64.1)\n",
            "Requirement already satisfied: packaging>=17.0 in /usr/local/lib/python3.7/dist-packages (from pytorch-lightning==1.7.6->-r /content/drive/MyDrive/github/IntelligentDocumentProcessing/requirements.txt (line 4)) (21.3)\n",
            "Requirement already satisfied: tensorboard>=2.9.1 in /usr/local/lib/python3.7/dist-packages (from pytorch-lightning==1.7.6->-r /content/drive/MyDrive/github/IntelligentDocumentProcessing/requirements.txt (line 4)) (2.9.1)\n",
            "Requirement already satisfied: typing-extensions>=4.0.0 in /usr/local/lib/python3.7/dist-packages (from pytorch-lightning==1.7.6->-r /content/drive/MyDrive/github/IntelligentDocumentProcessing/requirements.txt (line 4)) (4.1.1)\n",
            "Requirement already satisfied: torchmetrics>=0.7.0 in /usr/local/lib/python3.7/dist-packages (from pytorch-lightning==1.7.6->-r /content/drive/MyDrive/github/IntelligentDocumentProcessing/requirements.txt (line 4)) (0.10.3)\n",
            "Requirement already satisfied: torch>=1.9.* in /usr/local/lib/python3.7/dist-packages (from pytorch-lightning==1.7.6->-r /content/drive/MyDrive/github/IntelligentDocumentProcessing/requirements.txt (line 4)) (1.12.1+cu113)\n",
            "Requirement already satisfied: opencv-python>=4.2.0.32 in /usr/local/lib/python3.7/dist-packages (from trdg==1.6.0->-r /content/drive/MyDrive/github/IntelligentDocumentProcessing/requirements.txt (line 6)) (4.6.0.66)\n",
            "Requirement already satisfied: pillow==7.0.0 in /usr/local/lib/python3.7/dist-packages (from trdg==1.6.0->-r /content/drive/MyDrive/github/IntelligentDocumentProcessing/requirements.txt (line 6)) (7.0.0)\n",
            "Requirement already satisfied: diffimg==0.2.3 in /usr/local/lib/python3.7/dist-packages (from trdg==1.6.0->-r /content/drive/MyDrive/github/IntelligentDocumentProcessing/requirements.txt (line 6)) (0.2.3)\n",
            "Requirement already satisfied: beautifulsoup4>=4.6.0 in /usr/local/lib/python3.7/dist-packages (from trdg==1.6.0->-r /content/drive/MyDrive/github/IntelligentDocumentProcessing/requirements.txt (line 6)) (4.6.3)\n",
            "Requirement already satisfied: filelock in /usr/local/lib/python3.7/dist-packages (from transformers==4.23.1->-r /content/drive/MyDrive/github/IntelligentDocumentProcessing/requirements.txt (line 8)) (3.8.0)\n",
            "Requirement already satisfied: tokenizers!=0.11.3,<0.14,>=0.11.1 in /usr/local/lib/python3.7/dist-packages (from transformers==4.23.1->-r /content/drive/MyDrive/github/IntelligentDocumentProcessing/requirements.txt (line 8)) (0.13.2)\n",
            "Requirement already satisfied: huggingface-hub<1.0,>=0.10.0 in /usr/local/lib/python3.7/dist-packages (from transformers==4.23.1->-r /content/drive/MyDrive/github/IntelligentDocumentProcessing/requirements.txt (line 8)) (0.11.0)\n",
            "Requirement already satisfied: importlib-metadata in /usr/local/lib/python3.7/dist-packages (from transformers==4.23.1->-r /content/drive/MyDrive/github/IntelligentDocumentProcessing/requirements.txt (line 8)) (4.13.0)\n",
            "Requirement already satisfied: regex!=2019.12.17 in /usr/local/lib/python3.7/dist-packages (from transformers==4.23.1->-r /content/drive/MyDrive/github/IntelligentDocumentProcessing/requirements.txt (line 8)) (2022.6.2)\n",
            "Requirement already satisfied: intervaltree>=3 in /usr/local/lib/python3.7/dist-packages (from ipymarkup==0.9.0->-r /content/drive/MyDrive/github/IntelligentDocumentProcessing/requirements.txt (line 10)) (3.1.0)\n",
            "Requirement already satisfied: Jinja2>=3.0 in /usr/local/lib/python3.7/dist-packages (from flask==2.2.2->-r /content/drive/MyDrive/github/IntelligentDocumentProcessing/requirements.txt (line 11)) (3.1.2)\n",
            "Requirement already satisfied: itsdangerous>=2.0 in /usr/local/lib/python3.7/dist-packages (from flask==2.2.2->-r /content/drive/MyDrive/github/IntelligentDocumentProcessing/requirements.txt (line 11)) (2.1.2)\n",
            "Requirement already satisfied: Werkzeug>=2.2.2 in /usr/local/lib/python3.7/dist-packages (from flask==2.2.2->-r /content/drive/MyDrive/github/IntelligentDocumentProcessing/requirements.txt (line 11)) (2.2.2)\n",
            "Requirement already satisfied: rapidfuzz<3.0.0,>=2.3.0 in /usr/local/lib/python3.7/dist-packages (from levenshtein==0.20.7->-r /content/drive/MyDrive/github/IntelligentDocumentProcessing/requirements.txt (line 12)) (2.13.2)\n",
            "Requirement already satisfied: aiohttp!=4.0.0a0,!=4.0.0a1 in /usr/local/lib/python3.7/dist-packages (from fsspec[http]!=2021.06.0,>=2021.05.0->pytorch-lightning==1.7.6->-r /content/drive/MyDrive/github/IntelligentDocumentProcessing/requirements.txt (line 4)) (3.8.3)\n",
            "Requirement already satisfied: attrs>=17.3.0 in /usr/local/lib/python3.7/dist-packages (from aiohttp!=4.0.0a0,!=4.0.0a1->fsspec[http]!=2021.06.0,>=2021.05.0->pytorch-lightning==1.7.6->-r /content/drive/MyDrive/github/IntelligentDocumentProcessing/requirements.txt (line 4)) (22.1.0)\n",
            "Requirement already satisfied: multidict<7.0,>=4.5 in /usr/local/lib/python3.7/dist-packages (from aiohttp!=4.0.0a0,!=4.0.0a1->fsspec[http]!=2021.06.0,>=2021.05.0->pytorch-lightning==1.7.6->-r /content/drive/MyDrive/github/IntelligentDocumentProcessing/requirements.txt (line 4)) (6.0.2)\n",
            "Requirement already satisfied: async-timeout<5.0,>=4.0.0a3 in /usr/local/lib/python3.7/dist-packages (from aiohttp!=4.0.0a0,!=4.0.0a1->fsspec[http]!=2021.06.0,>=2021.05.0->pytorch-lightning==1.7.6->-r /content/drive/MyDrive/github/IntelligentDocumentProcessing/requirements.txt (line 4)) (4.0.2)\n",
            "Requirement already satisfied: asynctest==0.13.0 in /usr/local/lib/python3.7/dist-packages (from aiohttp!=4.0.0a0,!=4.0.0a1->fsspec[http]!=2021.06.0,>=2021.05.0->pytorch-lightning==1.7.6->-r /content/drive/MyDrive/github/IntelligentDocumentProcessing/requirements.txt (line 4)) (0.13.0)\n",
            "Requirement already satisfied: charset-normalizer<3.0,>=2.0 in /usr/local/lib/python3.7/dist-packages (from aiohttp!=4.0.0a0,!=4.0.0a1->fsspec[http]!=2021.06.0,>=2021.05.0->pytorch-lightning==1.7.6->-r /content/drive/MyDrive/github/IntelligentDocumentProcessing/requirements.txt (line 4)) (2.1.1)\n",
            "Requirement already satisfied: aiosignal>=1.1.2 in /usr/local/lib/python3.7/dist-packages (from aiohttp!=4.0.0a0,!=4.0.0a1->fsspec[http]!=2021.06.0,>=2021.05.0->pytorch-lightning==1.7.6->-r /content/drive/MyDrive/github/IntelligentDocumentProcessing/requirements.txt (line 4)) (1.3.1)\n",
            "Requirement already satisfied: yarl<2.0,>=1.0 in /usr/local/lib/python3.7/dist-packages (from aiohttp!=4.0.0a0,!=4.0.0a1->fsspec[http]!=2021.06.0,>=2021.05.0->pytorch-lightning==1.7.6->-r /content/drive/MyDrive/github/IntelligentDocumentProcessing/requirements.txt (line 4)) (1.8.1)\n",
            "Requirement already satisfied: frozenlist>=1.1.1 in /usr/local/lib/python3.7/dist-packages (from aiohttp!=4.0.0a0,!=4.0.0a1->fsspec[http]!=2021.06.0,>=2021.05.0->pytorch-lightning==1.7.6->-r /content/drive/MyDrive/github/IntelligentDocumentProcessing/requirements.txt (line 4)) (1.3.3)\n",
            "Requirement already satisfied: gitdb<5,>=4.0.1 in /usr/local/lib/python3.7/dist-packages (from GitPython>=1.0.0->wandb==0.13.3->-r /content/drive/MyDrive/github/IntelligentDocumentProcessing/requirements.txt (line 1)) (4.0.9)\n",
            "Requirement already satisfied: smmap<6,>=3.0.1 in /usr/local/lib/python3.7/dist-packages (from gitdb<5,>=4.0.1->GitPython>=1.0.0->wandb==0.13.3->-r /content/drive/MyDrive/github/IntelligentDocumentProcessing/requirements.txt (line 1)) (5.0.0)\n",
            "Requirement already satisfied: zipp>=0.5 in /usr/local/lib/python3.7/dist-packages (from importlib-metadata->transformers==4.23.1->-r /content/drive/MyDrive/github/IntelligentDocumentProcessing/requirements.txt (line 8)) (3.10.0)\n",
            "Requirement already satisfied: sortedcontainers<3.0,>=2.0 in /usr/local/lib/python3.7/dist-packages (from intervaltree>=3->ipymarkup==0.9.0->-r /content/drive/MyDrive/github/IntelligentDocumentProcessing/requirements.txt (line 10)) (2.4.0)\n",
            "Requirement already satisfied: MarkupSafe>=2.0 in /usr/local/lib/python3.7/dist-packages (from Jinja2>=3.0->flask==2.2.2->-r /content/drive/MyDrive/github/IntelligentDocumentProcessing/requirements.txt (line 11)) (2.1.1)\n",
            "Requirement already satisfied: pyparsing!=3.0.5,>=2.0.2 in /usr/local/lib/python3.7/dist-packages (from packaging>=17.0->pytorch-lightning==1.7.6->-r /content/drive/MyDrive/github/IntelligentDocumentProcessing/requirements.txt (line 4)) (3.0.9)\n",
            "Requirement already satisfied: scikit-learn>=0.19.1 in /usr/local/lib/python3.7/dist-packages (from qudida>=0.0.4->albumentations==1.2.1->-r /content/drive/MyDrive/github/IntelligentDocumentProcessing/requirements.txt (line 2)) (1.0.2)\n",
            "Requirement already satisfied: chardet<4,>=3.0.2 in /usr/local/lib/python3.7/dist-packages (from requests<3,>=2.0.0->wandb==0.13.3->-r /content/drive/MyDrive/github/IntelligentDocumentProcessing/requirements.txt (line 1)) (3.0.4)\n",
            "Requirement already satisfied: idna<3,>=2.5 in /usr/local/lib/python3.7/dist-packages (from requests<3,>=2.0.0->wandb==0.13.3->-r /content/drive/MyDrive/github/IntelligentDocumentProcessing/requirements.txt (line 1)) (2.10)\n",
            "Requirement already satisfied: urllib3!=1.25.0,!=1.25.1,<1.26,>=1.21.1 in /usr/local/lib/python3.7/dist-packages (from requests<3,>=2.0.0->wandb==0.13.3->-r /content/drive/MyDrive/github/IntelligentDocumentProcessing/requirements.txt (line 1)) (1.24.3)\n",
            "Requirement already satisfied: certifi>=2017.4.17 in /usr/local/lib/python3.7/dist-packages (from requests<3,>=2.0.0->wandb==0.13.3->-r /content/drive/MyDrive/github/IntelligentDocumentProcessing/requirements.txt (line 1)) (2022.9.24)\n",
            "Requirement already satisfied: imageio>=2.3.0 in /usr/local/lib/python3.7/dist-packages (from scikit-image>=0.16.1->albumentations==1.2.1->-r /content/drive/MyDrive/github/IntelligentDocumentProcessing/requirements.txt (line 2)) (2.9.0)\n",
            "Requirement already satisfied: networkx>=2.0 in /usr/local/lib/python3.7/dist-packages (from scikit-image>=0.16.1->albumentations==1.2.1->-r /content/drive/MyDrive/github/IntelligentDocumentProcessing/requirements.txt (line 2)) (2.6.3)\n",
            "Requirement already satisfied: matplotlib!=3.0.0,>=2.0.0 in /usr/local/lib/python3.7/dist-packages (from scikit-image>=0.16.1->albumentations==1.2.1->-r /content/drive/MyDrive/github/IntelligentDocumentProcessing/requirements.txt (line 2)) (3.2.2)\n",
            "Requirement already satisfied: PyWavelets>=1.1.1 in /usr/local/lib/python3.7/dist-packages (from scikit-image>=0.16.1->albumentations==1.2.1->-r /content/drive/MyDrive/github/IntelligentDocumentProcessing/requirements.txt (line 2)) (1.3.0)\n",
            "Requirement already satisfied: tifffile>=2019.7.26 in /usr/local/lib/python3.7/dist-packages (from scikit-image>=0.16.1->albumentations==1.2.1->-r /content/drive/MyDrive/github/IntelligentDocumentProcessing/requirements.txt (line 2)) (2021.11.2)\n",
            "Requirement already satisfied: kiwisolver>=1.0.1 in /usr/local/lib/python3.7/dist-packages (from matplotlib!=3.0.0,>=2.0.0->scikit-image>=0.16.1->albumentations==1.2.1->-r /content/drive/MyDrive/github/IntelligentDocumentProcessing/requirements.txt (line 2)) (1.4.4)\n",
            "Requirement already satisfied: python-dateutil>=2.1 in /usr/local/lib/python3.7/dist-packages (from matplotlib!=3.0.0,>=2.0.0->scikit-image>=0.16.1->albumentations==1.2.1->-r /content/drive/MyDrive/github/IntelligentDocumentProcessing/requirements.txt (line 2)) (2.8.2)\n",
            "Requirement already satisfied: cycler>=0.10 in /usr/local/lib/python3.7/dist-packages (from matplotlib!=3.0.0,>=2.0.0->scikit-image>=0.16.1->albumentations==1.2.1->-r /content/drive/MyDrive/github/IntelligentDocumentProcessing/requirements.txt (line 2)) (0.11.0)\n",
            "Requirement already satisfied: threadpoolctl>=2.0.0 in /usr/local/lib/python3.7/dist-packages (from scikit-learn>=0.19.1->qudida>=0.0.4->albumentations==1.2.1->-r /content/drive/MyDrive/github/IntelligentDocumentProcessing/requirements.txt (line 2)) (3.1.0)\n",
            "Requirement already satisfied: joblib>=0.11 in /usr/local/lib/python3.7/dist-packages (from scikit-learn>=0.19.1->qudida>=0.0.4->albumentations==1.2.1->-r /content/drive/MyDrive/github/IntelligentDocumentProcessing/requirements.txt (line 2)) (1.2.0)\n",
            "Requirement already satisfied: absl-py>=0.4 in /usr/local/lib/python3.7/dist-packages (from tensorboard>=2.9.1->pytorch-lightning==1.7.6->-r /content/drive/MyDrive/github/IntelligentDocumentProcessing/requirements.txt (line 4)) (1.3.0)\n",
            "Requirement already satisfied: google-auth-oauthlib<0.5,>=0.4.1 in /usr/local/lib/python3.7/dist-packages (from tensorboard>=2.9.1->pytorch-lightning==1.7.6->-r /content/drive/MyDrive/github/IntelligentDocumentProcessing/requirements.txt (line 4)) (0.4.6)\n",
            "Requirement already satisfied: tensorboard-plugin-wit>=1.6.0 in /usr/local/lib/python3.7/dist-packages (from tensorboard>=2.9.1->pytorch-lightning==1.7.6->-r /content/drive/MyDrive/github/IntelligentDocumentProcessing/requirements.txt (line 4)) (1.8.1)\n",
            "Requirement already satisfied: markdown>=2.6.8 in /usr/local/lib/python3.7/dist-packages (from tensorboard>=2.9.1->pytorch-lightning==1.7.6->-r /content/drive/MyDrive/github/IntelligentDocumentProcessing/requirements.txt (line 4)) (3.4.1)\n",
            "Requirement already satisfied: grpcio>=1.24.3 in /usr/local/lib/python3.7/dist-packages (from tensorboard>=2.9.1->pytorch-lightning==1.7.6->-r /content/drive/MyDrive/github/IntelligentDocumentProcessing/requirements.txt (line 4)) (1.50.0)\n",
            "Requirement already satisfied: wheel>=0.26 in /usr/local/lib/python3.7/dist-packages (from tensorboard>=2.9.1->pytorch-lightning==1.7.6->-r /content/drive/MyDrive/github/IntelligentDocumentProcessing/requirements.txt (line 4)) (0.38.4)\n",
            "Requirement already satisfied: google-auth<3,>=1.6.3 in /usr/local/lib/python3.7/dist-packages (from tensorboard>=2.9.1->pytorch-lightning==1.7.6->-r /content/drive/MyDrive/github/IntelligentDocumentProcessing/requirements.txt (line 4)) (2.14.1)\n",
            "Requirement already satisfied: tensorboard-data-server<0.7.0,>=0.6.0 in /usr/local/lib/python3.7/dist-packages (from tensorboard>=2.9.1->pytorch-lightning==1.7.6->-r /content/drive/MyDrive/github/IntelligentDocumentProcessing/requirements.txt (line 4)) (0.6.1)\n",
            "Requirement already satisfied: cachetools<6.0,>=2.0.0 in /usr/local/lib/python3.7/dist-packages (from google-auth<3,>=1.6.3->tensorboard>=2.9.1->pytorch-lightning==1.7.6->-r /content/drive/MyDrive/github/IntelligentDocumentProcessing/requirements.txt (line 4)) (5.2.0)\n",
            "Requirement already satisfied: pyasn1-modules>=0.2.1 in /usr/local/lib/python3.7/dist-packages (from google-auth<3,>=1.6.3->tensorboard>=2.9.1->pytorch-lightning==1.7.6->-r /content/drive/MyDrive/github/IntelligentDocumentProcessing/requirements.txt (line 4)) (0.2.8)\n",
            "Requirement already satisfied: rsa<5,>=3.1.4 in /usr/local/lib/python3.7/dist-packages (from google-auth<3,>=1.6.3->tensorboard>=2.9.1->pytorch-lightning==1.7.6->-r /content/drive/MyDrive/github/IntelligentDocumentProcessing/requirements.txt (line 4)) (4.9)\n",
            "Requirement already satisfied: requests-oauthlib>=0.7.0 in /usr/local/lib/python3.7/dist-packages (from google-auth-oauthlib<0.5,>=0.4.1->tensorboard>=2.9.1->pytorch-lightning==1.7.6->-r /content/drive/MyDrive/github/IntelligentDocumentProcessing/requirements.txt (line 4)) (1.3.1)\n",
            "Requirement already satisfied: pyasn1<0.5.0,>=0.4.6 in /usr/local/lib/python3.7/dist-packages (from pyasn1-modules>=0.2.1->google-auth<3,>=1.6.3->tensorboard>=2.9.1->pytorch-lightning==1.7.6->-r /content/drive/MyDrive/github/IntelligentDocumentProcessing/requirements.txt (line 4)) (0.4.8)\n",
            "Requirement already satisfied: oauthlib>=3.0.0 in /usr/local/lib/python3.7/dist-packages (from requests-oauthlib>=0.7.0->google-auth-oauthlib<0.5,>=0.4.1->tensorboard>=2.9.1->pytorch-lightning==1.7.6->-r /content/drive/MyDrive/github/IntelligentDocumentProcessing/requirements.txt (line 4)) (3.2.2)\n",
            "Requirement already satisfied: torchvision>=0.5.0 in /usr/local/lib/python3.7/dist-packages (from segmentation-models-pytorch->-r /content/drive/MyDrive/github/IntelligentDocumentProcessing/requirements.txt (line 5)) (0.13.1+cu113)\n",
            "Requirement already satisfied: efficientnet-pytorch==0.7.1 in /usr/local/lib/python3.7/dist-packages (from segmentation-models-pytorch->-r /content/drive/MyDrive/github/IntelligentDocumentProcessing/requirements.txt (line 5)) (0.7.1)\n",
            "Requirement already satisfied: timm==0.4.12 in /usr/local/lib/python3.7/dist-packages (from segmentation-models-pytorch->-r /content/drive/MyDrive/github/IntelligentDocumentProcessing/requirements.txt (line 5)) (0.4.12)\n",
            "Requirement already satisfied: pretrainedmodels==0.7.4 in /usr/local/lib/python3.7/dist-packages (from segmentation-models-pytorch->-r /content/drive/MyDrive/github/IntelligentDocumentProcessing/requirements.txt (line 5)) (0.7.4)\n",
            "Requirement already satisfied: munch in /usr/local/lib/python3.7/dist-packages (from pretrainedmodels==0.7.4->segmentation-models-pytorch->-r /content/drive/MyDrive/github/IntelligentDocumentProcessing/requirements.txt (line 5)) (2.5.0)\n"
          ]
        }
      ]
    },
    {
      "cell_type": "code",
      "source": [
        "import sys\n",
        "base_folder = repo_folder + 'IntelligentDocumentProcessing/Resources/d_Named_Entity_Recognition/'\n",
        "sys.path.append(base_folder)"
      ],
      "metadata": {
        "id": "wvgaF6_qj_rc"
      },
      "execution_count": null,
      "outputs": []
    },
    {
      "cell_type": "code",
      "source": [
        "import json\n",
        "from tqdm import tqdm\n",
        "from typing import List, Tuple\n",
        "from ipymarkup import show_span_line_markup"
      ],
      "metadata": {
        "id": "A8lFMcEgkbbG"
      },
      "execution_count": null,
      "outputs": []
    },
    {
      "cell_type": "markdown",
      "source": [
        "# Как хранить разметку для NER?"
      ],
      "metadata": {
        "id": "6dYGg7XR86N2"
      }
    },
    {
      "cell_type": "markdown",
      "source": [
        "### ConLL\n",
        "Как исследователь данных вы должны быть знакомы с различными общими и соревнованием ConLL. В 2003 г. было опубликовано одно из первых \"состязаний\" по NER, включающим данные по форммату ConLL. Подробное описание вы можете найти [здесь](https://aclanthology.org/W03-0419.pdf). CoNLL — условное название форматов TSV для задач NLP (TSV — значения разделенные табуляцией, т. е. CSV с <TAB> в качестве разделителя)\n",
        "\n",
        "\n",
        "```\n",
        "-DOCSTART- -X- -X- O\n",
        "\n",
        "EU NNP B-NP B-ORG\n",
        "rejects VBZ B-VP O\n",
        "German JJ B-NP B-MISC\n",
        "call NN I-NP O\n",
        "to TO B-VP O\n",
        "boycott VB I-VP O\n",
        "British JJ B-NP B-MISC\n",
        "lamb NN I-NP O\n",
        ". . O O\n",
        "\n",
        "Peter NNP B-NP B-PER\n",
        "Blackburn NNP I-NP I-PER\n",
        "```\n",
        "\n",
        "В форматах **CoNLL**:\n",
        "\n",
        "* каждое слово (лексема) представлено в отдельной строке\n",
        "* каждое предложение отделяется от следующего пустой строкой\n",
        "* каждый столбец представляет собой одну аннотацию\n",
        "* каждое слово в предложении имеет одинаковое количество столбцов, то есть аннотации\n",
        "* аннотация - строковое значение определнной лингвистической каетегории\n",
        "* аннотации, охватывающие несколько слов, иногда используют специальные обозначения, например, круглые скобки (указывающие начало и конец фразы), также может быть тег схемы IOBES (например, B-NP (Begin - Noun Phrase): начальный токен именной группы, I-NP: один из неначальных токенов именной группы , E-NP: конечный токен именной группы, S-NP: именная группа состоит из одного токена, O: не относится к именной группе)\n",
        "* некоторые форматы CoNLL имеют один или несколько столбцов с числовыми идентификаторами, в таком случае следующий столбец после него содержит строковое значение - сам токен\n",
        "\n",
        "\n",
        "Существуют разные форматы **ConLL**? Да.\n",
        "\n",
        "Примерами этого разнообразия являются дорожки в соревнования ConLL-2009, а также всемирный NLP проект: [Universal Dependacies](https://universaldependencies.org/) - фреймворк для создания и хранения консистентной грамматической аннотации  (части речи, морфологические признаки, и синтаксические зависимости) на разных языках. UD — это открытое сообщество, в котором более 300 участников, которые создали около 200 наборов синтаксических деревьев на более чем 100 языках. \n",
        "\n"
      ],
      "metadata": {
        "id": "O3N8QTjLJ92K"
      }
    },
    {
      "cell_type": "code",
      "source": [
        "!wget https://data.deepai.org/conll2003.zip \n",
        "!unzip conll2003.zip"
      ],
      "metadata": {
        "id": "ZAh7tGMlIhmw",
        "colab": {
          "base_uri": "https://localhost:8080/"
        },
        "outputId": "8f45189c-3d9c-4b53-96ed-b20b3ad8a4da"
      },
      "execution_count": null,
      "outputs": [
        {
          "output_type": "stream",
          "name": "stdout",
          "text": [
            "--2022-11-22 19:57:53--  https://data.deepai.org/conll2003.zip\n",
            "Resolving data.deepai.org (data.deepai.org)... 5.9.140.253\n",
            "Connecting to data.deepai.org (data.deepai.org)|5.9.140.253|:443... connected.\n",
            "HTTP request sent, awaiting response... 200 OK\n",
            "Length: 982975 (960K) [application/x-zip-compressed]\n",
            "Saving to: ‘conll2003.zip.1’\n",
            "\n",
            "conll2003.zip.1     100%[===================>] 959.94K   977KB/s    in 1.0s    \n",
            "\n",
            "2022-11-22 19:57:55 (977 KB/s) - ‘conll2003.zip.1’ saved [982975/982975]\n",
            "\n",
            "Archive:  conll2003.zip\n",
            "replace metadata? [y]es, [n]o, [A]ll, [N]one, [r]ename: y\n",
            "  inflating: metadata                \n",
            "replace test.txt? [y]es, [n]o, [A]ll, [N]one, [r]ename: y\n",
            "  inflating: test.txt                \n",
            "replace train.txt? [y]es, [n]o, [A]ll, [N]one, [r]ename: y\n",
            "  inflating: train.txt               \n",
            "replace valid.txt? [y]es, [n]o, [A]ll, [N]one, [r]ename: y\n",
            "  inflating: valid.txt               \n"
          ]
        }
      ]
    },
    {
      "cell_type": "markdown",
      "source": [
        "От теории к практике. Давайте прочитаем сохраненную аннотация и стркутрируем ее в виде исходных документов и предложений внутри. Мы ожидаем получить список документов, каждый из которых будет состоять из списка предложений. Внутри предложения будут пары: токен - NER тег."
      ],
      "metadata": {
        "id": "B2EqCXidX72d"
      }
    },
    {
      "cell_type": "code",
      "source": [
        "_SEP = \" \"\n",
        "_TOKEN_COLUMN = 0\n",
        "_LABEL_COLUMN = -1\n",
        "_CONLL_PREFIX_SEPARATOR = \"-\"\n",
        "_LIBRARY_PREFIX_SEPARATOR = \"_\"\n",
        "\n",
        "def read_conll(file_path: str) -> List[List[Tuple[List[str], List[str]]]]:\n",
        "\n",
        "  with open(file_path) as f:\n",
        "    lines = f.readlines()\n",
        "\n",
        "  documents = []\n",
        "  document_sequences = []\n",
        "  sentence_tokens = []\n",
        "  sentence_labels = []\n",
        "  # не забудем tqdm для динамического отслеживания процесс считывания разметки\n",
        "  for line in tqdm(lines, desc=\"Parsing data\"):\n",
        "      contents = line.strip()\n",
        "      # каждый новый документ начинается с этого тега\n",
        "      if contents.startswith(\"-DOCSTART-\"):\n",
        "          if document_sequences:\n",
        "              documents.append(document_sequences)\n",
        "          document_sequences = []\n",
        "          sentence_tokens = []\n",
        "          sentence_labels = []\n",
        "          continue\n",
        "      if not contents:\n",
        "          if sentence_tokens:\n",
        "              document_sequences.append((sentence_tokens, sentence_labels))\n",
        "          sentence_tokens = []\n",
        "          sentence_labels = []\n",
        "          continue\n",
        "      items = contents.split()\n",
        "      token = items[_TOKEN_COLUMN]\n",
        "      label = items[_LABEL_COLUMN].replace(\n",
        "                _CONLL_PREFIX_SEPARATOR, _LIBRARY_PREFIX_SEPARATOR\n",
        "            )\n",
        "      sentence_tokens.append(token)\n",
        "      sentence_labels.append(label)\n",
        "    \n",
        "  if sentence_tokens:\n",
        "    document_sequences.append((sentence_tokens, sentence_labels))\n",
        "\n",
        "  if document_sequences:\n",
        "    documents.append(document_sequences)\n",
        "\n",
        "  return documents"
      ],
      "metadata": {
        "id": "IObX2QWrk9Q0"
      },
      "execution_count": null,
      "outputs": []
    },
    {
      "cell_type": "code",
      "source": [
        "train_docs = read_conll(\"train.txt\")"
      ],
      "metadata": {
        "colab": {
          "base_uri": "https://localhost:8080/"
        },
        "id": "3Yy4A4lNZDN6",
        "outputId": "395b156f-f561-4d6c-cdbf-74b2dae65aa4"
      },
      "execution_count": null,
      "outputs": [
        {
          "output_type": "stream",
          "name": "stderr",
          "text": [
            "Parsing data: 100%|██████████| 219554/219554 [00:00<00:00, 792980.38it/s]\n"
          ]
        }
      ]
    },
    {
      "cell_type": "markdown",
      "source": [
        "Посмотрим как выглядят выравненные предложения и списки меток:"
      ],
      "metadata": {
        "id": "kKORhAZvnCiZ"
      }
    },
    {
      "cell_type": "code",
      "source": [
        "doc_example_id = 8\n",
        "print(\"START DOC\\n\" + \"-\" * 30)\n",
        "for sentence, labels in train_docs[doc_example_id]:\n",
        "  print(\" \".join(sentence))\n",
        "  print(\" \".join(labels))\n",
        "print(\"-\" * 30 + \"\\nEND DOC\")"
      ],
      "metadata": {
        "colab": {
          "base_uri": "https://localhost:8080/"
        },
        "id": "oemWNwruZqNh",
        "outputId": "4aec4460-ac1d-4c76-abe4-b511b6e0a9e2"
      },
      "execution_count": null,
      "outputs": [
        {
          "output_type": "stream",
          "name": "stdout",
          "text": [
            "START DOC\n",
            "------------------------------\n",
            "Port conditions update - Syria - Lloyds Shipping .\n",
            "O O O O B_LOC O B_ORG I_ORG O\n",
            "Port conditions from Lloyds Shipping Intelligence Service --\n",
            "O O O B_ORG I_ORG I_ORG I_ORG O\n",
            "LATTAKIA , Aug 10 - waiting time at Lattakia and Tartous presently 24 hours .\n",
            "B_LOC O O O O O O O B_LOC O B_LOC O O O O\n",
            "------------------------------\n",
            "END DOC\n"
          ]
        }
      ]
    },
    {
      "cell_type": "markdown",
      "source": [
        "В коде ниже мы преобразуем наш дадасет: соберем через пробелы токены и воостановим в них координаты сущностей в символах. Таким образом мы будем иметь на каждое предложение список туплов для сущностей и одну строку, содержащую строковое значение."
      ],
      "metadata": {
        "id": "SPqQG6RFavEu"
      }
    },
    {
      "cell_type": "code",
      "source": [
        "def document_to_samples(\n",
        "        doc_id: int,\n",
        "        document_sequences: List[Tuple[List[str], List[str]]],\n",
        "):\n",
        "    \"\"\"\n",
        "    На вход получаем список предложений с тегами для каждого токена внутри предложения. \n",
        "    В данном пайплайне предложения относятся к одному документу. Исходные токены \n",
        "    предложения собираем в одну строку через пробел. Преобразуем список тегов \n",
        "    сущностей к списку туплов с символьными координамтами и типом (для каждой сущности).\n",
        "    \"\"\"\n",
        "    instances = []\n",
        "    sentences = []\n",
        "    sequence_boundaries = []\n",
        "    current_sentence_pos = 0\n",
        "    for sentence_tokens, sentence_labels in document_sequences:\n",
        "        current_word_pos = 0\n",
        "        sentence_text = _SEP.join(sentence_tokens)\n",
        "        sentences.append(sentence_text)\n",
        "        sequence_boundaries.append(\n",
        "            (current_sentence_pos, current_sentence_pos + len(sentence_text))\n",
        "        )\n",
        "        prev_entity_type = \"\"\n",
        "        entity_type = \"\"\n",
        "        entities = []\n",
        "        current_sentence_pos = 0\n",
        "        token_boundaries = []\n",
        "        entity_start = 0\n",
        "        entity_end = 1\n",
        "        entity_text = []\n",
        "        for i, (tag, word) in enumerate(zip(sentence_labels, sentence_tokens)):\n",
        "            token_boundaries.append((current_word_pos, current_word_pos + len(word)))\n",
        "            current_word_pos += len(word) + len(_SEP)\n",
        "\n",
        "            if tag != \"O\":\n",
        "                prefix, curr_entity_type = tag.split(_LIBRARY_PREFIX_SEPARATOR, 1)\n",
        "            else:\n",
        "                prefix = ''\n",
        "                curr_entity_type = ''\n",
        "\n",
        "            if (prefix not in (\"B\", \"I\")) and ((prefix == '') and tag != \"O\"):\n",
        "                continue\n",
        "\n",
        "            if prefix == \"I\" and prev_entity_type == curr_entity_type:\n",
        "                entity_end += 1\n",
        "                entity_text.append(word)\n",
        "\n",
        "            else:\n",
        "                if entity_type:\n",
        "                    entities.append(\n",
        "                        (token_boundaries[entity_start][0], \n",
        "                         token_boundaries[entity_end - 1][-1], \n",
        "                         entity_type)\n",
        "                        )\n",
        "                entity_start = i\n",
        "                entity_end = i + 1\n",
        "                entity_type = curr_entity_type\n",
        "                entity_text = [word]\n",
        "\n",
        "            prev_entity_type = curr_entity_type\n",
        "\n",
        "        else:\n",
        "            if entity_type:\n",
        "                entities.append(\n",
        "                        (token_boundaries[entity_start][0], \n",
        "                         token_boundaries[entity_end - 1][-1], \n",
        "                         entity_type))\n",
        "\n",
        "        instance = (sentence_text, entities)\n",
        "        instances.append(instance)\n",
        "        current_sentence_pos += len(sentence_text) + len(_SEP)\n",
        "    return instances\n",
        "\n",
        "def documents_to_samples(\n",
        "  samples: List[List[Tuple[List[str], List[str]]]]\n",
        ") -> List[Tuple[str, List[Tuple[int, int, str]]]]:\n",
        "  \"\"\"\n",
        "  Главаня функция для преобразования примеров документов из исходного \n",
        "  формата к формату визуализации.\n",
        "  Уходим от уровня документов на уровень предложений.\n",
        "  \"\"\"\n",
        "  parser_result = []\n",
        "  for doc_id, document_sequences in enumerate(samples):\n",
        "      parser_result.extend(\n",
        "          document_to_samples(doc_id, document_sequences)\n",
        "      )\n",
        "  return parser_result"
      ],
      "metadata": {
        "id": "mqn_zs7OGLWy"
      },
      "execution_count": null,
      "outputs": []
    },
    {
      "cell_type": "code",
      "source": [
        "train_sentences = documents_to_samples(train_docs)"
      ],
      "metadata": {
        "id": "sx2EE-mvm9Qp"
      },
      "execution_count": null,
      "outputs": []
    },
    {
      "cell_type": "code",
      "source": [
        "train_sentences[0]"
      ],
      "metadata": {
        "colab": {
          "base_uri": "https://localhost:8080/"
        },
        "id": "R0JVz237IiZg",
        "outputId": "2970af15-b806-4aab-db0f-fe6f151d1c98"
      },
      "execution_count": null,
      "outputs": [
        {
          "output_type": "execute_result",
          "data": {
            "text/plain": [
              "('EU rejects German call to boycott British lamb .',\n",
              " [(0, 2, 'ORG'), (11, 17, 'MISC'), (34, 41, 'MISC')])"
            ]
          },
          "metadata": {},
          "execution_count": 12
        }
      ]
    },
    {
      "cell_type": "markdown",
      "source": [
        "А теперь можем визулизировать первые 5 предложений:"
      ],
      "metadata": {
        "id": "2SkRDyJge9xW"
      }
    },
    {
      "cell_type": "code",
      "source": [
        "visualize_n_example = 5\n",
        "for i in train_sentences[:visualize_n_example]:\n",
        "  show_span_line_markup(*i)\n",
        "  print()"
      ],
      "metadata": {
        "colab": {
          "base_uri": "https://localhost:8080/",
          "height": 348
        },
        "id": "0MlWYBddIqCz",
        "outputId": "0b2be4eb-7082-4f17-d5fc-0b2d0f393df3"
      },
      "execution_count": null,
      "outputs": [
        {
          "output_type": "display_data",
          "data": {
            "text/plain": [
              "<IPython.core.display.HTML object>"
            ],
            "text/html": [
              "<div class=\"tex2jax_ignore\" style=\"white-space: pre-wrap\"><div><span style=\"display: inline-block; vertical-align: top\"></span><span style=\"display: inline-block; vertical-align: top; position: relative; margin-bottom: 11px\"><span style=\"border-bottom: 3px solid #90caf9; padding-bottom: 8px\">EU</span><span style=\"font-size: 11px; line-height: 1; white-space: nowrap; text-shadow: 1px 1px 0px white; position: absolute; left: 0; bottom: -8px\">ORG</span></span><span style=\"display: inline-block; vertical-align: top\"> rejects </span><span style=\"display: inline-block; vertical-align: top; position: relative; margin-bottom: 11px\"><span style=\"border-bottom: 3px solid #a5d6a7; padding-bottom: 8px\">German</span><span style=\"font-size: 11px; line-height: 1; white-space: nowrap; text-shadow: 1px 1px 0px white; position: absolute; left: 0; bottom: -8px\">MISC</span></span><span style=\"display: inline-block; vertical-align: top\"> call to boycott </span><span style=\"display: inline-block; vertical-align: top; position: relative; margin-bottom: 11px\"><span style=\"border-bottom: 3px solid #a5d6a7; padding-bottom: 8px\">British</span><span style=\"font-size: 11px; line-height: 1; white-space: nowrap; text-shadow: 1px 1px 0px white; position: absolute; left: 0; bottom: -8px\">MISC</span></span><span style=\"display: inline-block; vertical-align: top\"> lamb .</span></div></div>"
            ]
          },
          "metadata": {}
        },
        {
          "output_type": "stream",
          "name": "stdout",
          "text": [
            "\n"
          ]
        },
        {
          "output_type": "display_data",
          "data": {
            "text/plain": [
              "<IPython.core.display.HTML object>"
            ],
            "text/html": [
              "<div class=\"tex2jax_ignore\" style=\"white-space: pre-wrap\"><div><span style=\"display: inline-block; vertical-align: top\"></span><span style=\"display: inline-block; vertical-align: top; position: relative; margin-bottom: 11px\"><span style=\"border-bottom: 3px solid #ef9a9a; padding-bottom: 8px\">Peter Blackburn</span><span style=\"font-size: 11px; line-height: 1; white-space: nowrap; text-shadow: 1px 1px 0px white; position: absolute; left: 0; bottom: -8px\">PER</span></span><span style=\"display: inline-block; vertical-align: top\"></span></div></div>"
            ]
          },
          "metadata": {}
        },
        {
          "output_type": "stream",
          "name": "stdout",
          "text": [
            "\n"
          ]
        },
        {
          "output_type": "display_data",
          "data": {
            "text/plain": [
              "<IPython.core.display.HTML object>"
            ],
            "text/html": [
              "<div class=\"tex2jax_ignore\" style=\"white-space: pre-wrap\"><div><span style=\"display: inline-block; vertical-align: top\"></span><span style=\"display: inline-block; vertical-align: top; position: relative; margin-bottom: 11px\"><span style=\"border-bottom: 3px solid #ffcc80; padding-bottom: 8px\">BRUSSELS</span><span style=\"font-size: 11px; line-height: 1; white-space: nowrap; text-shadow: 1px 1px 0px white; position: absolute; left: 0; bottom: -8px\">LOC</span></span><span style=\"display: inline-block; vertical-align: top\"> 1996-08-22</span></div></div>"
            ]
          },
          "metadata": {}
        },
        {
          "output_type": "stream",
          "name": "stdout",
          "text": [
            "\n"
          ]
        },
        {
          "output_type": "display_data",
          "data": {
            "text/plain": [
              "<IPython.core.display.HTML object>"
            ],
            "text/html": [
              "<div class=\"tex2jax_ignore\" style=\"white-space: pre-wrap\"><div><span style=\"display: inline-block; vertical-align: top\">The </span><span style=\"display: inline-block; vertical-align: top; position: relative; margin-bottom: 11px\"><span style=\"border-bottom: 3px solid #90caf9; padding-bottom: 8px\">European Commission</span><span style=\"font-size: 11px; line-height: 1; white-space: nowrap; text-shadow: 1px 1px 0px white; position: absolute; left: 0; bottom: -8px\">ORG</span></span><span style=\"display: inline-block; vertical-align: top\"> said on Thursday it disagreed with </span><span style=\"display: inline-block; vertical-align: top; position: relative; margin-bottom: 11px\"><span style=\"border-bottom: 3px solid #a5d6a7; padding-bottom: 8px\">German</span><span style=\"font-size: 11px; line-height: 1; white-space: nowrap; text-shadow: 1px 1px 0px white; position: absolute; left: 0; bottom: -8px\">MISC</span></span><span style=\"display: inline-block; vertical-align: top\"> advice to </span></div><div><span style=\"display: inline-block; vertical-align: top\">consumers to shun </span><span style=\"display: inline-block; vertical-align: top; position: relative; margin-bottom: 11px\"><span style=\"border-bottom: 3px solid #a5d6a7; padding-bottom: 8px\">British</span><span style=\"font-size: 11px; line-height: 1; white-space: nowrap; text-shadow: 1px 1px 0px white; position: absolute; left: 0; bottom: -8px\">MISC</span></span><span style=\"display: inline-block; vertical-align: top\"> lamb until scientists determine whether mad cow </span></div><div><span style=\"display: inline-block; vertical-align: top\">disease can be transmitted to sheep .</span></div></div>"
            ]
          },
          "metadata": {}
        },
        {
          "output_type": "stream",
          "name": "stdout",
          "text": [
            "\n"
          ]
        },
        {
          "output_type": "display_data",
          "data": {
            "text/plain": [
              "<IPython.core.display.HTML object>"
            ],
            "text/html": [
              "<div class=\"tex2jax_ignore\" style=\"white-space: pre-wrap\"><div><span style=\"display: inline-block; vertical-align: top\"></span><span style=\"display: inline-block; vertical-align: top; position: relative; margin-bottom: 11px\"><span style=\"border-bottom: 3px solid #ffcc80; padding-bottom: 8px\">Germany</span><span style=\"font-size: 11px; line-height: 1; white-space: nowrap; text-shadow: 1px 1px 0px white; position: absolute; left: 0; bottom: -8px\">LOC</span></span><span style=\"display: inline-block; vertical-align: top\"> &#x27;s representative to the </span><span style=\"display: inline-block; vertical-align: top; position: relative; margin-bottom: 11px\"><span style=\"border-bottom: 3px solid #90caf9; padding-bottom: 8px\">European Union</span><span style=\"font-size: 11px; line-height: 1; white-space: nowrap; text-shadow: 1px 1px 0px white; position: absolute; left: 0; bottom: -8px\">ORG</span></span><span style=\"display: inline-block; vertical-align: top\"> &#x27;s veterinary committee </span><span style=\"display: inline-block; vertical-align: top; position: relative; margin-bottom: 11px\"><span style=\"border-bottom: 3px solid #ef9a9a; padding-bottom: 8px\">Werner </span><span style=\"font-size: 11px; line-height: 1; white-space: nowrap; text-shadow: 1px 1px 0px white; position: absolute; left: 0; bottom: -8px\">PER</span></span><span style=\"display: inline-block; vertical-align: top\"></span></div><div><span style=\"display: inline-block; vertical-align: top\"></span><span style=\"display: inline-block; vertical-align: top; position: relative; margin-bottom: 11px\"><span style=\"border-bottom: 3px solid #ef9a9a; padding-bottom: 8px\">Zwingmann</span></span><span style=\"display: inline-block; vertical-align: top\"> said on Wednesday consumers should buy sheepmeat from countries other </span></div><div><span style=\"display: inline-block; vertical-align: top\">than </span><span style=\"display: inline-block; vertical-align: top; position: relative; margin-bottom: 11px\"><span style=\"border-bottom: 3px solid #ffcc80; padding-bottom: 8px\">Britain</span><span style=\"font-size: 11px; line-height: 1; white-space: nowrap; text-shadow: 1px 1px 0px white; position: absolute; left: 0; bottom: -8px\">LOC</span></span><span style=\"display: inline-block; vertical-align: top\"> until the scientific advice was clearer .</span></div></div>"
            ]
          },
          "metadata": {}
        },
        {
          "output_type": "stream",
          "name": "stdout",
          "text": [
            "\n"
          ]
        }
      ]
    },
    {
      "cell_type": "markdown",
      "source": [
        "## Label studio\n",
        "\n",
        "Согласно главной странице инструмента [**Label studio**](https://labelstud.io/) - \"это самый гибкий инстурмент для аннотирования данных\". Вы сможете конфигурировать кастомные шаблоны для построения процесса разметки, а если вы новичок, то достаточно будет воспользоваться готовыми темплейтами. Установка не потребует большого количества времени.\n",
        "\n",
        "\n",
        "\n",
        "Действительно, с помощью готовых шаблонов мы сможете решать найиболее частотные NLP задачи:\n",
        "\n",
        "1.   *Классификация* : Классификация документов мультиклассовая/мультилейбловая с набором до 1000 заданных типов\n",
        "\n",
        "2.   *Извлечение сущностей*: Сегментация и категоризация фрагментов текста\n",
        "\n",
        "3. *Вопросно-ответные системы*: Разметка для построения датасета вопросно-ответной системы с опорой на контекст \n",
        "\n",
        "4. *Анализ тональности*: Определение типа тональности текста (до N категорий)\n"
      ],
      "metadata": {
        "id": "RqNfg3ajAeFy"
      }
    },
    {
      "cell_type": "markdown",
      "source": [
        "#### Задача #1\n",
        "В **Label studio** было размечено два документа с помощью шаблона \"Извлечение сущностей\". Ваша задача считать разметку из файла-выгрузки и преобразовать ее к формату пригодному для визулизации с помощью **ipymarkup**. Ожидаемые типы сущностей **LOC**, **ORG**, **PER**."
      ],
      "metadata": {
        "id": "CPZPM-WKJV9W"
      }
    },
    {
      "cell_type": "code",
      "source": [
        "! head {base_folder}/resources/is_markup/project-770-at-2022-04-03-15-42-e657ff5c.json"
      ],
      "metadata": {
        "colab": {
          "base_uri": "https://localhost:8080/"
        },
        "id": "MPPsZKuMJq-H",
        "outputId": "c2b13b9b-5e81-45f4-d7b4-7b0a88d8776e"
      },
      "execution_count": null,
      "outputs": [
        {
          "output_type": "stream",
          "name": "stdout",
          "text": [
            "[{\"id\":251710,\"annotations\":[{\"id\":142494,\"completed_by\":57,\"result\":[{\"id\":\"uoVEuYDPxP\",\"type\":\"labels\",\"value\":{\"end\":203,\"text\":\"Евгений Красников\",\"start\":186,\"labels\":[\"PER\"]},\"origin\":\"manual\",\"to_name\":\"text\",\"from_name\":\"label\"},{\"id\":\"803QOHrY4b\",\"type\":\"labels\",\"value\":{\"end\":58,\"text\":\"«Зенита»\",\"start\":50,\"labels\":[\"ORG\"]},\"origin\":\"manual\",\"to_name\":\"text\",\"from_name\":\"label\"},{\"id\":\"L_TMhypNgJ\",\"type\":\"labels\",\"value\":{\"end\":87,\"text\":\"«Металлиста»\",\"start\":75,\"labels\":[\"ORG\"]},\"origin\":\"manual\",\"to_name\":\"text\",\"from_name\":\"label\"},{\"id\":\"CWMau-ScoY\",\"type\":\"labels\",\"value\":{\"end\":143,\"text\":\"«Зенитом»\",\"start\":134,\"labels\":[\"ORG\"]},\"origin\":\"manual\",\"to_name\":\"text\",\"from_name\":\"label\"},{\"id\":\"V6Y2BmJ1wJ\",\"type\":\"labels\",\"value\":{\"end\":299,\"text\":\"«Зенита»\",\"start\":291,\"labels\":[\"ORG\"]},\"origin\":\"manual\",\"to_name\":\"text\",\"from_name\":\"label\"},{\"id\":\"fk6W4Ug38H\",\"type\":\"labels\",\"value\":{\"end\":624,\"text\":\"«Зенита»\",\"start\":616,\"labels\":[\"ORG\"]},\"origin\":\"manual\",\"to_name\":\"text\",\"from_name\":\"label\"},{\"id\":\"05hitQQNRT\",\"type\":\"labels\",\"value\":{\"end\":724,\"text\":\"Metaratings\",\"start\":713,\"labels\":[\"ORG\"]},\"origin\":\"manual\",\"to_name\":\"text\",\"from_name\":\"label\"},{\"id\":\"UCUGVs8wbA\",\"type\":\"labels\",\"value\":{\"end\":796,\"text\":\"«Истанбул»\",\"start\":786,\"labels\":[\"ORG\"]},\"origin\":\"manual\",\"to_name\":\"text\",\"from_name\":\"label\"},{\"id\":\"ORwUXzbkIX\",\"type\":\"labels\",\"value\":{\"end\":812,\"text\":\"«Аланьяспор\",\"start\":801,\"labels\":[\"ORG\"]},\"origin\":\"manual\",\"to_name\":\"text\",\"from_name\":\"label\"},{\"id\":\"YaTNDo8wjm\",\"type\":\"labels\",\"value\":{\"end\":46,\"text\":\"Ракицкого\",\"start\":37,\"labels\":[\"PER\"]},\"origin\":\"manual\",\"to_name\":\"text\",\"from_name\":\"label\"},{\"id\":\"zEtLEkr7kN\",\"type\":\"labels\",\"value\":{\"end\":97,\"text\":\"Ракицкий\",\"start\":89,\"labels\":[\"PER\"]},\"origin\":\"manual\",\"to_name\":\"text\",\"from_name\":\"label\"},{\"id\":\"xQ3QobUVi7\",\"type\":\"labels\",\"value\":{\"end\":272,\"text\":\"Ярослава Ракицкого\",\"start\":254,\"labels\":[\"PER\"]},\"origin\":\"manual\",\"to_name\":\"text\",\"from_name\":\"label\"},{\"id\":\"oivIu1W9W6\",\"type\":\"labels\",\"value\":{\"end\":475,\"text\":\"Красников\",\"start\":466,\"labels\":[\"PER\"]},\"origin\":\"manual\",\"to_name\":\"text\",\"from_name\":\"label\"},{\"id\":\"uUonD-NInW\",\"type\":\"labels\",\"value\":{\"end\":571,\"text\":\"Ракицкий\",\"start\":563,\"labels\":[\"PER\"]},\"origin\":\"manual\",\"to_name\":\"text\",\"from_name\":\"label\"},{\"id\":\"0CxlPbpmOM\",\"type\":\"labels\",\"value\":{\"end\":607,\"text\":\"Ракицкий\",\"start\":599,\"labels\":[\"PER\"]},\"origin\":\"manual\",\"to_name\":\"text\",\"from_name\":\"label\"},{\"id\":\"UbymvqXndU\",\"type\":\"labels\",\"value\":{\"end\":760,\"text\":\"Ракицкий\",\"start\":752,\"labels\":[\"PER\"]},\"origin\":\"manual\",\"to_name\":\"text\",\"from_name\":\"label\"},{\"id\":\"QN5OSvo7HK\",\"type\":\"labels\",\"value\":{\"end\":335,\"text\":\"Football.ua\",\"start\":324,\"labels\":[\"ORG\"]},\"origin\":\"manual\",\"to_name\":\"text\",\"from_name\":\"label\"},{\"id\":\"ytyhew1a0T\",\"type\":\"labels\",\"value\":{\"end\":185,\"text\":\"«Металлиста»\",\"start\":173,\"labels\":[\"ORG\"]},\"origin\":\"manual\",\"to_name\":\"text\",\"from_name\":\"label\"},{\"id\":\"FHbsK1qTwD\",\"type\":\"labels\",\"value\":{\"end\":539,\"text\":\"Украины\",\"start\":532,\"labels\":[\"LOC\"]},\"origin\":\"manual\",\"to_name\":\"text\",\"from_name\":\"label\"}],\"was_cancelled\":false,\"ground_truth\":false,\"created_at\":\"2022-04-03T15:41:40.345674Z\",\"updated_at\":\"2022-04-03T15:41:40.345688Z\",\"lead_time\":229.97,\"prediction\":{},\"result_count\":0,\"task\":251710,\"parent_prediction\":null,\"parent_annotation\":null}],\"file_upload\":\"9ed8b063-text1.txt\",\"drafts\":[],\"predictions\":[],\"data\":{\"text\":\"Появились подробности ухода украинца Ракицкого из «Зенита». Вице-президент «Металлиста»: Ракицкий разорвал очень серьезный контракт с «Зенитом». Вице-президент харьковского «Металлиста» Евгений Красников рассказал подробности ухода украинского защитника Ярослава Ракицкого из петербургского «Зенита». Они появились на сайте Football.ua.«Когда вопрос встал ребром, человек расторг контракт. Причем очень серьезный контракт, я знаю. Он разорвал его и уехал», — заявил Красников. Он добавил, что футболист хотел бы вернуться в сборную Украины, и выразил мнение, что Ракицкий заслужил такую возможность.Ракицкий ушел из «Зенита» 2 марта. Контракт футболиста был расторгнут по обоюдному согласию сторон. По информации Metaratings, в летнее трансферное окно Ракицкий может перейти в турецкие «Истанбул» или «Аланьяспор».\"},\"meta\":{},\"created_at\":\"2022-04-03T15:36:03.521063Z\",\"updated_at\":\"2022-04-03T15:41:40.385356Z\",\"project\":770},{\"id\":251709,\"annotations\":[{\"id\":142493,\"completed_by\":57,\"result\":[{\"id\":\"EKnNBP51Z_\",\"type\":\"labels\",\"value\":{\"end\":44,\"text\":\"Екатерина Шпица\",\"start\":29,\"labels\":[\"PER\"]},\"origin\":\"manual\",\"to_name\":\"text\",\"from_name\":\"label\"},{\"id\":\"S-8YExT-3x\",\"type\":\"labels\",\"value\":{\"end\":69,\"text\":\"«Москвич Mag»\",\"start\":56,\"labels\":[\"ORG\"]},\"origin\":\"manual\",\"to_name\":\"text\",\"from_name\":\"label\"},{\"id\":\"VyvxYm3AWv\",\"type\":\"labels\",\"value\":{\"end\":331,\"text\":\"Инте\",\"start\":327,\"labels\":[\"LOC\"]},\"origin\":\"manual\",\"to_name\":\"text\",\"from_name\":\"label\"},{\"id\":\"FYKYtiW78A\",\"type\":\"labels\",\"value\":{\"end\":375,\"text\":\"Москвич \",\"start\":367,\"labels\":[\"ORG\"]},\"origin\":\"manual\",\"to_name\":\"text\",\"from_name\":\"label\"}],\"was_cancelled\":false,\"ground_truth\":false,\"created_at\":\"2022-04-03T15:36:58.172675Z\",\"updated_at\":\"2022-04-03T15:37:48.304771Z\",\"lead_time\":481.258,\"prediction\":{},\"result_count\":0,\"task\":251709,\"parent_prediction\":null,\"parent_annotation\":null}],\"file_upload\":\"b56d3159-text2.txt\",\"drafts\":[],\"predictions\":[],\"data\":{\"text\":\"Известная российская актриса Екатерина Шпица в беседе с «Москвич Mag» назвала отличительное качество москвичей от жителей других городов. Она отметила, что в последнее время ей все чаще, глядя на человека, сложно определить, коренной он москвич или нет. Она уточнила, что сама является «понаехавшей», так как родилась в городе Инте, но ее сын — москвич по рождению. «Москвич — это глубже и больше, чем производное от топонима, это характеристика личности. Понятно, что москвичи бывают разного качества — и со знаком \\\"плюс\\\", и \\\"минус\\\", но для меня это понятие включает в себя прежде всего энергичность, мобильность, работоспособность», — объясняет она. Артистка считает, что настоящий москвич — это творческий человек, не имеющий чувства страха. В заключение она добавила, что каждый человек может стать москвичом, если это необходимо для его развития.\"},\"meta\":{},\"created_at\":\"2022-04-03T15:36:03.521007Z\",\"updated_at\":\"2022-04-03T15:37:48.322874Z\",\"project\":770}]"
          ]
        }
      ]
    },
    {
      "cell_type": "code",
      "source": [
        "def read_ls_data(file_path: str) -> List[Tuple[str, List[Tuple[int, int, str]]]]:\n",
        "  \"\"\"\n",
        "  Your code here\n",
        "  \"\"\"\n",
        "  with open(file_path) as f:\n",
        "    json_ = json.load(f)\n",
        "  \n",
        "  documents = []\n",
        "  for document in tqdm(json_):        \n",
        "      text_document = document['data']['text']\n",
        "      \n",
        "      tokens = []\n",
        "      for ind, token in enumerate(document['annotations'][0]['result']):\n",
        "        tokens.append(\n",
        "                      (\n",
        "                       token['value']['start'],\n",
        "                       token['value']['end'], \n",
        "                       token['value']['labels'][0]\n",
        "                      )\n",
        "        )\n",
        "      documents.append((text_document, tokens))\n",
        "      \n",
        "  return documents"
      ],
      "metadata": {
        "id": "hBqCAA7TCbP3"
      },
      "execution_count": null,
      "outputs": []
    },
    {
      "cell_type": "code",
      "source": [
        "file_path = f'{base_folder}/resources/is_markup/project-770-at-2022-04-03-15-42-e657ff5c.json'\n",
        "result = read_ls_data(file_path)"
      ],
      "metadata": {
        "id": "bFGOlVmUnlxd",
        "colab": {
          "base_uri": "https://localhost:8080/"
        },
        "outputId": "7cba5965-ac7a-49f2-d33b-b32769a7ec4c"
      },
      "execution_count": null,
      "outputs": [
        {
          "output_type": "stream",
          "name": "stderr",
          "text": [
            "100%|██████████| 2/2 [00:00<00:00, 14639.80it/s]\n"
          ]
        }
      ]
    },
    {
      "cell_type": "code",
      "source": [
        "print(result[0])"
      ],
      "metadata": {
        "colab": {
          "base_uri": "https://localhost:8080/"
        },
        "id": "5UNp4z4A6OuX",
        "outputId": "d2accc43-3da7-4813-934a-0dbd17e602df"
      },
      "execution_count": null,
      "outputs": [
        {
          "output_type": "stream",
          "name": "stdout",
          "text": [
            "('Появились подробности ухода украинца Ракицкого из «Зенита». Вице-президент «Металлиста»: Ракицкий разорвал очень серьезный контракт с «Зенитом». Вице-президент харьковского «Металлиста» Евгений Красников рассказал подробности ухода украинского защитника Ярослава Ракицкого из петербургского «Зенита». Они появились на сайте Football.ua.«Когда вопрос встал ребром, человек расторг контракт. Причем очень серьезный контракт, я знаю. Он разорвал его и уехал», — заявил Красников. Он добавил, что футболист хотел бы вернуться в сборную Украины, и выразил мнение, что Ракицкий заслужил такую возможность.Ракицкий ушел из «Зенита» 2 марта. Контракт футболиста был расторгнут по обоюдному согласию сторон. По информации Metaratings, в летнее трансферное окно Ракицкий может перейти в турецкие «Истанбул» или «Аланьяспор».', [(186, 203, 'PER'), (50, 58, 'ORG'), (75, 87, 'ORG'), (134, 143, 'ORG'), (291, 299, 'ORG'), (616, 624, 'ORG'), (713, 724, 'ORG'), (786, 796, 'ORG'), (801, 812, 'ORG'), (37, 46, 'PER'), (89, 97, 'PER'), (254, 272, 'PER'), (466, 475, 'PER'), (563, 571, 'PER'), (599, 607, 'PER'), (752, 760, 'PER'), (324, 335, 'ORG'), (173, 185, 'ORG'), (532, 539, 'LOC')])\n"
          ]
        }
      ]
    },
    {
      "cell_type": "markdown",
      "source": [
        "#### Проверить решение"
      ],
      "metadata": {
        "id": "czPW_wsNnZnD"
      }
    },
    {
      "cell_type": "code",
      "source": [
        "assert len(result) == 2, \"Должно быть размечено два документа\"\n",
        "assert all([True for doc_text, markup in result if markup]), \"В каждом документе должна быть разметка\"\n",
        "\n",
        "expected_markup = [(29, 44, 'PER'), (56, 69, 'ORG'), (327, 331, 'LOC'), (367, 375, 'ORG')]\n",
        "\n",
        "_, result_markup = result[1]\n",
        "result_markup = sorted(result_markup, key=lambda x: x[0])\n",
        "for res_m, expect_m in zip(result_markup, expected_markup):\n",
        "  assert res_m == expect_m, f\"Полученная и ожидаемая разметка не совпадают {res_m} != {expect_m}\"\n",
        "\n",
        "\n",
        "print(\"Все в порядке :)\")"
      ],
      "metadata": {
        "colab": {
          "base_uri": "https://localhost:8080/"
        },
        "id": "HkENX21JngTL",
        "outputId": "010036b9-1f21-4e94-e830-9f2938cb093e"
      },
      "execution_count": null,
      "outputs": [
        {
          "output_type": "stream",
          "name": "stdout",
          "text": [
            "Все в порядке :)\n"
          ]
        }
      ]
    },
    {
      "cell_type": "code",
      "source": [
        "show_span_line_markup(*result[0])"
      ],
      "metadata": {
        "colab": {
          "base_uri": "https://localhost:8080/",
          "height": 318
        },
        "id": "LpRgiUsKnJW_",
        "outputId": "a70da811-70be-474d-9866-3d86ef2d710b"
      },
      "execution_count": null,
      "outputs": [
        {
          "output_type": "display_data",
          "data": {
            "text/plain": [
              "<IPython.core.display.HTML object>"
            ],
            "text/html": [
              "<div class=\"tex2jax_ignore\" style=\"white-space: pre-wrap\"><div><span style=\"display: inline-block; vertical-align: top\">Появились подробности ухода украинца </span><span style=\"display: inline-block; vertical-align: top; position: relative; margin-bottom: 11px\"><span style=\"border-bottom: 3px solid #ef9a9a; padding-bottom: 8px\">Ракицкого</span><span style=\"font-size: 11px; line-height: 1; white-space: nowrap; text-shadow: 1px 1px 0px white; position: absolute; left: 0; bottom: -8px\">PER</span></span><span style=\"display: inline-block; vertical-align: top\"> из </span><span style=\"display: inline-block; vertical-align: top; position: relative; margin-bottom: 11px\"><span style=\"border-bottom: 3px solid #90caf9; padding-bottom: 8px\">«Зенита»</span><span style=\"font-size: 11px; line-height: 1; white-space: nowrap; text-shadow: 1px 1px 0px white; position: absolute; left: 0; bottom: -8px\">ORG</span></span><span style=\"display: inline-block; vertical-align: top\">. Вице-президент </span></div><div><span style=\"display: inline-block; vertical-align: top\"></span><span style=\"display: inline-block; vertical-align: top; position: relative; margin-bottom: 11px\"><span style=\"border-bottom: 3px solid #90caf9; padding-bottom: 8px\">«Металлиста»</span><span style=\"font-size: 11px; line-height: 1; white-space: nowrap; text-shadow: 1px 1px 0px white; position: absolute; left: 0; bottom: -8px\">ORG</span></span><span style=\"display: inline-block; vertical-align: top\">: </span><span style=\"display: inline-block; vertical-align: top; position: relative; margin-bottom: 11px\"><span style=\"border-bottom: 3px solid #ef9a9a; padding-bottom: 8px\">Ракицкий</span><span style=\"font-size: 11px; line-height: 1; white-space: nowrap; text-shadow: 1px 1px 0px white; position: absolute; left: 0; bottom: -8px\">PER</span></span><span style=\"display: inline-block; vertical-align: top\"> разорвал очень серьезный контракт с </span><span style=\"display: inline-block; vertical-align: top; position: relative; margin-bottom: 11px\"><span style=\"border-bottom: 3px solid #90caf9; padding-bottom: 8px\">«Зенитом»</span><span style=\"font-size: 11px; line-height: 1; white-space: nowrap; text-shadow: 1px 1px 0px white; position: absolute; left: 0; bottom: -8px\">ORG</span></span><span style=\"display: inline-block; vertical-align: top\">. Вице-</span></div><div><span style=\"display: inline-block; vertical-align: top\">президент харьковского </span><span style=\"display: inline-block; vertical-align: top; position: relative; margin-bottom: 11px\"><span style=\"border-bottom: 3px solid #90caf9; padding-bottom: 8px\">«Металлиста»</span><span style=\"font-size: 11px; line-height: 1; white-space: nowrap; text-shadow: 1px 1px 0px white; position: absolute; left: 0; bottom: -8px\">ORG</span></span><span style=\"display: inline-block; vertical-align: top\"> </span><span style=\"display: inline-block; vertical-align: top; position: relative; margin-bottom: 11px\"><span style=\"border-bottom: 3px solid #ef9a9a; padding-bottom: 8px\">Евгений Красников</span><span style=\"font-size: 11px; line-height: 1; white-space: nowrap; text-shadow: 1px 1px 0px white; position: absolute; left: 0; bottom: -8px\">PER</span></span><span style=\"display: inline-block; vertical-align: top\"> рассказал подробности </span></div><div><span style=\"display: inline-block; vertical-align: top\">ухода украинского защитника </span><span style=\"display: inline-block; vertical-align: top; position: relative; margin-bottom: 11px\"><span style=\"border-bottom: 3px solid #ef9a9a; padding-bottom: 8px\">Ярослава Ракицкого</span><span style=\"font-size: 11px; line-height: 1; white-space: nowrap; text-shadow: 1px 1px 0px white; position: absolute; left: 0; bottom: -8px\">PER</span></span><span style=\"display: inline-block; vertical-align: top\"> из петербургского </span><span style=\"display: inline-block; vertical-align: top; position: relative; margin-bottom: 11px\"><span style=\"border-bottom: 3px solid #90caf9; padding-bottom: 8px\">«Зенита»</span><span style=\"font-size: 11px; line-height: 1; white-space: nowrap; text-shadow: 1px 1px 0px white; position: absolute; left: 0; bottom: -8px\">ORG</span></span><span style=\"display: inline-block; vertical-align: top\">. Они </span></div><div><span style=\"display: inline-block; vertical-align: top\">появились на сайте </span><span style=\"display: inline-block; vertical-align: top; position: relative; margin-bottom: 11px\"><span style=\"border-bottom: 3px solid #90caf9; padding-bottom: 8px\">Football.ua</span><span style=\"font-size: 11px; line-height: 1; white-space: nowrap; text-shadow: 1px 1px 0px white; position: absolute; left: 0; bottom: -8px\">ORG</span></span><span style=\"display: inline-block; vertical-align: top\">.«Когда вопрос встал ребром, человек расторг </span></div><div><span style=\"display: inline-block; vertical-align: top\">контракт. Причем очень серьезный контракт, я знаю. Он разорвал его и уехал», — </span></div><div><span style=\"display: inline-block; vertical-align: top\">заявил </span><span style=\"display: inline-block; vertical-align: top; position: relative; margin-bottom: 11px\"><span style=\"border-bottom: 3px solid #ef9a9a; padding-bottom: 8px\">Красников</span><span style=\"font-size: 11px; line-height: 1; white-space: nowrap; text-shadow: 1px 1px 0px white; position: absolute; left: 0; bottom: -8px\">PER</span></span><span style=\"display: inline-block; vertical-align: top\">. Он добавил, что футболист хотел бы вернуться в сборную </span></div><div><span style=\"display: inline-block; vertical-align: top\"></span><span style=\"display: inline-block; vertical-align: top; position: relative; margin-bottom: 11px\"><span style=\"border-bottom: 3px solid #ffcc80; padding-bottom: 8px\">Украины</span><span style=\"font-size: 11px; line-height: 1; white-space: nowrap; text-shadow: 1px 1px 0px white; position: absolute; left: 0; bottom: -8px\">LOC</span></span><span style=\"display: inline-block; vertical-align: top\">, и выразил мнение, что </span><span style=\"display: inline-block; vertical-align: top; position: relative; margin-bottom: 11px\"><span style=\"border-bottom: 3px solid #ef9a9a; padding-bottom: 8px\">Ракицкий</span><span style=\"font-size: 11px; line-height: 1; white-space: nowrap; text-shadow: 1px 1px 0px white; position: absolute; left: 0; bottom: -8px\">PER</span></span><span style=\"display: inline-block; vertical-align: top\"> заслужил такую возможность.</span><span style=\"display: inline-block; vertical-align: top; position: relative; margin-bottom: 11px\"><span style=\"border-bottom: 3px solid #ef9a9a; padding-bottom: 8px\">Ракицкий</span><span style=\"font-size: 11px; line-height: 1; white-space: nowrap; text-shadow: 1px 1px 0px white; position: absolute; left: 0; bottom: -8px\">PER</span></span><span style=\"display: inline-block; vertical-align: top\"> ушел</span></div><div><span style=\"display: inline-block; vertical-align: top\"> из </span><span style=\"display: inline-block; vertical-align: top; position: relative; margin-bottom: 11px\"><span style=\"border-bottom: 3px solid #90caf9; padding-bottom: 8px\">«Зенита»</span><span style=\"font-size: 11px; line-height: 1; white-space: nowrap; text-shadow: 1px 1px 0px white; position: absolute; left: 0; bottom: -8px\">ORG</span></span><span style=\"display: inline-block; vertical-align: top\"> 2 марта. Контракт футболиста был расторгнут по обоюдному согласию </span></div><div><span style=\"display: inline-block; vertical-align: top\">сторон. По информации </span><span style=\"display: inline-block; vertical-align: top; position: relative; margin-bottom: 11px\"><span style=\"border-bottom: 3px solid #90caf9; padding-bottom: 8px\">Metaratings</span><span style=\"font-size: 11px; line-height: 1; white-space: nowrap; text-shadow: 1px 1px 0px white; position: absolute; left: 0; bottom: -8px\">ORG</span></span><span style=\"display: inline-block; vertical-align: top\">, в летнее трансферное окно </span><span style=\"display: inline-block; vertical-align: top; position: relative; margin-bottom: 11px\"><span style=\"border-bottom: 3px solid #ef9a9a; padding-bottom: 8px\">Ракицкий</span><span style=\"font-size: 11px; line-height: 1; white-space: nowrap; text-shadow: 1px 1px 0px white; position: absolute; left: 0; bottom: -8px\">PER</span></span><span style=\"display: inline-block; vertical-align: top\"> может </span></div><div><span style=\"display: inline-block; vertical-align: top\">перейти в турецкие </span><span style=\"display: inline-block; vertical-align: top; position: relative; margin-bottom: 11px\"><span style=\"border-bottom: 3px solid #90caf9; padding-bottom: 8px\">«Истанбул»</span><span style=\"font-size: 11px; line-height: 1; white-space: nowrap; text-shadow: 1px 1px 0px white; position: absolute; left: 0; bottom: -8px\">ORG</span></span><span style=\"display: inline-block; vertical-align: top\"> или </span><span style=\"display: inline-block; vertical-align: top; position: relative; margin-bottom: 11px\"><span style=\"border-bottom: 3px solid #90caf9; padding-bottom: 8px\">«Аланьяспор</span><span style=\"font-size: 11px; line-height: 1; white-space: nowrap; text-shadow: 1px 1px 0px white; position: absolute; left: 0; bottom: -8px\">ORG</span></span><span style=\"display: inline-block; vertical-align: top\">».</span></div></div>"
            ]
          },
          "metadata": {}
        }
      ]
    }
  ]
}